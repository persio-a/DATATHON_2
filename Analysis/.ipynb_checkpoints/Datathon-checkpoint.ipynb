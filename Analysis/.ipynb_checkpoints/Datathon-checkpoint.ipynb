{
 "cells": [
  {
   "cell_type": "code",
   "execution_count": 2,
   "metadata": {},
   "outputs": [],
   "source": [
    "# Importing libraries required for the project \n",
    "import pandas as pd\n",
    "import numpy as np\n",
    "import matplotlib.pyplot as plt\n",
    "import seaborn as sns\n",
    "import os\n",
    "import re\n",
    "import datetime\n",
    "from sklearn import linear_model\n",
    "import statsmodels.api as sm\n",
    "from sklearn.metrics import mean_squared_error\n",
    "from sklearn.ensemble import RandomForestRegressor\n",
    "from sklearn.metrics import r2_score\n",
    "from sklearn import tree\n",
    "from sklearn.tree import DecisionTreeRegressor\n",
    "from sklearn.tree import DecisionTreeClassifier\n",
    "from sklearn.model_selection  import ParameterGrid\n",
    "from sklearn.model_selection import train_test_split\n",
    "from sklearn.metrics import mean_squared_error as mse\n",
    "import plotly.graph_objs as go\n",
    "import plotly.offline as plotly\n",
    "from pprint import pprint\n",
    "#from xgboost import XGBRegressor\n",
    "#import xgboost as xgb\n",
    "from sklearn.linear_model import LinearRegression, Ridge, Lasso\n",
    "from sklearn.model_selection import GridSearchCV\n",
    "from sklearn import model_selection\n",
    "from sklearn import svm"
   ]
  },
  {
   "cell_type": "code",
   "execution_count": 185,
   "metadata": {},
   "outputs": [],
   "source": [
    "Activities = pd.read_excel(\"Activities.xlsx\")\n",
    "Coverages = pd.read_excel(\"Coverages.xlsx\")\n",
    "Dates = pd.read_excel(\"Dates.xlsx\")\n",
    "Marketing_actions = pd.read_excel(\"Marketing_actions.xlsx\")\n",
    "School_locations = pd.read_excel(\"School_locations.xlsx\")"
   ]
  },
  {
   "cell_type": "code",
   "execution_count": 57,
   "metadata": {},
   "outputs": [
    {
     "data": {
      "text/html": [
       "<div>\n",
       "<style scoped>\n",
       "    .dataframe tbody tr th:only-of-type {\n",
       "        vertical-align: middle;\n",
       "    }\n",
       "\n",
       "    .dataframe tbody tr th {\n",
       "        vertical-align: top;\n",
       "    }\n",
       "\n",
       "    .dataframe thead th {\n",
       "        text-align: right;\n",
       "    }\n",
       "</style>\n",
       "<table border=\"1\" class=\"dataframe\">\n",
       "  <thead>\n",
       "    <tr style=\"text-align: right;\">\n",
       "      <th></th>\n",
       "      <th>Course</th>\n",
       "      <th>N_Course</th>\n",
       "    </tr>\n",
       "  </thead>\n",
       "  <tbody>\n",
       "    <tr>\n",
       "      <th>0</th>\n",
       "      <td>00020</td>\n",
       "      <td>0 years</td>\n",
       "    </tr>\n",
       "    <tr>\n",
       "      <th>1</th>\n",
       "      <td>00021</td>\n",
       "      <td>1 year</td>\n",
       "    </tr>\n",
       "    <tr>\n",
       "      <th>2</th>\n",
       "      <td>00022</td>\n",
       "      <td>2 years</td>\n",
       "    </tr>\n",
       "    <tr>\n",
       "      <th>3</th>\n",
       "      <td>00023</td>\n",
       "      <td>3 years</td>\n",
       "    </tr>\n",
       "    <tr>\n",
       "      <th>4</th>\n",
       "      <td>00024</td>\n",
       "      <td>4 years</td>\n",
       "    </tr>\n",
       "  </tbody>\n",
       "</table>\n",
       "</div>"
      ],
      "text/plain": [
       "  Course N_Course\n",
       "0  00020  0 years\n",
       "1  00021   1 year\n",
       "2  00022  2 years\n",
       "3  00023  3 years\n",
       "4  00024  4 years"
      ]
     },
     "execution_count": 57,
     "metadata": {},
     "output_type": "execute_result"
    }
   ],
   "source": [
    "Codes_course = pd.read_excel(\"Codes.xlsx\", 'Course')\n",
    "Codes_course.head()"
   ]
  },
  {
   "cell_type": "code",
   "execution_count": 252,
   "metadata": {},
   "outputs": [],
   "source": [
    "Codes_course = pd.read_excel(\"Codes.xlsx\", 'Course')\n",
    "Codes_subject = pd.read_excel(\"Codes.xlsx\", 'Subject')\n",
    "Codes_education_material = pd.read_excel(\"Codes.xlsx\", 'Educational_Material')\n",
    "Codes_Current_Support = pd.read_excel(\"Codes.xlsx\", 'Current_Support')\n",
    "Codes_Languages = pd.read_excel(\"Codes.xlsx\", 'Languages')"
   ]
  },
  {
   "cell_type": "code",
   "execution_count": 28,
   "metadata": {},
   "outputs": [],
   "source": [
    "#Marketing_2019 = pd.read_excel(\"Marketing_actions.xlsx\", '2019')\n",
    "#Marketing_2018 = pd.read_excel(\"Marketing_actions.xlsx\", '2018')\n",
    "#Marketing_2017 = pd.read_excel(\"Marketing_actions.xlsx\", '2017')\n",
    "#Marketing_2016 = pd.read_excel(\"Marketing_actions.xlsx\", '2016')\n",
    "#Marketing_2015 = pd.read_excel(\"Marketing_actions.xlsx\", '2015')"
   ]
  },
  {
   "cell_type": "code",
   "execution_count": 31,
   "metadata": {},
   "outputs": [],
   "source": [
    "data = pd.read_csv(\"madrid_survey.csv\")"
   ]
  },
  {
   "cell_type": "code",
   "execution_count": 32,
   "metadata": {},
   "outputs": [
    {
     "data": {
      "text/plain": [
       "(131185,)"
      ]
     },
     "execution_count": 32,
     "metadata": {},
     "output_type": "execute_result"
    }
   ],
   "source": [
    "data['Publishing group'].shape"
   ]
  },
  {
   "cell_type": "code",
   "execution_count": 33,
   "metadata": {},
   "outputs": [],
   "source": [
    "data['Publishing group'] = data['Publishing group'].apply(lambda x: x if str(x).isdigit() else x[:-4])"
   ]
  },
  {
   "cell_type": "code",
   "execution_count": null,
   "metadata": {},
   "outputs": [],
   "source": []
  },
  {
   "cell_type": "code",
   "execution_count": 35,
   "metadata": {},
   "outputs": [
    {
     "data": {
      "text/html": [
       "<div>\n",
       "<style scoped>\n",
       "    .dataframe tbody tr th:only-of-type {\n",
       "        vertical-align: middle;\n",
       "    }\n",
       "\n",
       "    .dataframe tbody tr th {\n",
       "        vertical-align: top;\n",
       "    }\n",
       "\n",
       "    .dataframe thead th {\n",
       "        text-align: right;\n",
       "    }\n",
       "</style>\n",
       "<table border=\"1\" class=\"dataframe\">\n",
       "  <thead>\n",
       "    <tr style=\"text-align: right;\">\n",
       "      <th></th>\n",
       "      <th># copies</th>\n",
       "      <th>Course</th>\n",
       "      <th>Customer heading</th>\n",
       "      <th>Publishing group</th>\n",
       "      <th>Subject</th>\n",
       "      <th>Type Current Support</th>\n",
       "      <th>Year</th>\n",
       "      <th>Latitude</th>\n",
       "      <th>Longitude</th>\n",
       "      <th>Town</th>\n",
       "      <th>Current Seller id</th>\n",
       "      <th>Institution</th>\n",
       "      <th>Titularity</th>\n",
       "      <th>key</th>\n",
       "    </tr>\n",
       "  </thead>\n",
       "  <tbody>\n",
       "    <tr>\n",
       "      <th>0</th>\n",
       "      <td>135</td>\n",
       "      <td>29</td>\n",
       "      <td>136369.0</td>\n",
       "      <td>34</td>\n",
       "      <td>65</td>\n",
       "      <td>1</td>\n",
       "      <td>2019</td>\n",
       "      <td>40.428274</td>\n",
       "      <td>-3.681298</td>\n",
       "      <td>MADRID</td>\n",
       "      <td>208.0</td>\n",
       "      <td>No</td>\n",
       "      <td>Catholic</td>\n",
       "      <td>29_65_136369.0</td>\n",
       "    </tr>\n",
       "    <tr>\n",
       "      <th>1</th>\n",
       "      <td>0</td>\n",
       "      <td>29</td>\n",
       "      <td>136369.0</td>\n",
       "      <td>1</td>\n",
       "      <td>79</td>\n",
       "      <td>1</td>\n",
       "      <td>2019</td>\n",
       "      <td>40.428274</td>\n",
       "      <td>-3.681298</td>\n",
       "      <td>MADRID</td>\n",
       "      <td>208.0</td>\n",
       "      <td>No</td>\n",
       "      <td>Catholic</td>\n",
       "      <td>29_79_136369.0</td>\n",
       "    </tr>\n",
       "    <tr>\n",
       "      <th>2</th>\n",
       "      <td>0</td>\n",
       "      <td>29</td>\n",
       "      <td>136369.0</td>\n",
       "      <td>1</td>\n",
       "      <td>60</td>\n",
       "      <td>1</td>\n",
       "      <td>2019</td>\n",
       "      <td>40.428274</td>\n",
       "      <td>-3.681298</td>\n",
       "      <td>MADRID</td>\n",
       "      <td>208.0</td>\n",
       "      <td>No</td>\n",
       "      <td>Catholic</td>\n",
       "      <td>29_60_136369.0</td>\n",
       "    </tr>\n",
       "    <tr>\n",
       "      <th>3</th>\n",
       "      <td>135</td>\n",
       "      <td>29</td>\n",
       "      <td>136369.0</td>\n",
       "      <td>1</td>\n",
       "      <td>54</td>\n",
       "      <td>1</td>\n",
       "      <td>2019</td>\n",
       "      <td>40.428274</td>\n",
       "      <td>-3.681298</td>\n",
       "      <td>MADRID</td>\n",
       "      <td>208.0</td>\n",
       "      <td>No</td>\n",
       "      <td>Catholic</td>\n",
       "      <td>29_54_136369.0</td>\n",
       "    </tr>\n",
       "    <tr>\n",
       "      <th>4</th>\n",
       "      <td>140</td>\n",
       "      <td>30</td>\n",
       "      <td>136369.0</td>\n",
       "      <td>1</td>\n",
       "      <td>15</td>\n",
       "      <td>1</td>\n",
       "      <td>2019</td>\n",
       "      <td>40.428274</td>\n",
       "      <td>-3.681298</td>\n",
       "      <td>MADRID</td>\n",
       "      <td>208.0</td>\n",
       "      <td>No</td>\n",
       "      <td>Catholic</td>\n",
       "      <td>30_15_136369.0</td>\n",
       "    </tr>\n",
       "  </tbody>\n",
       "</table>\n",
       "</div>"
      ],
      "text/plain": [
       "   # copies  Course  Customer heading Publishing group  Subject  \\\n",
       "0       135      29          136369.0               34       65   \n",
       "1         0      29          136369.0                1       79   \n",
       "2         0      29          136369.0                1       60   \n",
       "3       135      29          136369.0                1       54   \n",
       "4       140      30          136369.0                1       15   \n",
       "\n",
       "   Type Current Support  Year   Latitude  Longitude    Town  \\\n",
       "0                     1  2019  40.428274  -3.681298  MADRID   \n",
       "1                     1  2019  40.428274  -3.681298  MADRID   \n",
       "2                     1  2019  40.428274  -3.681298  MADRID   \n",
       "3                     1  2019  40.428274  -3.681298  MADRID   \n",
       "4                     1  2019  40.428274  -3.681298  MADRID   \n",
       "\n",
       "   Current Seller id Institution Titularity             key  \n",
       "0              208.0          No   Catholic  29_65_136369.0  \n",
       "1              208.0          No   Catholic  29_79_136369.0  \n",
       "2              208.0          No   Catholic  29_60_136369.0  \n",
       "3              208.0          No   Catholic  29_54_136369.0  \n",
       "4              208.0          No   Catholic  30_15_136369.0  "
      ]
     },
     "execution_count": 35,
     "metadata": {},
     "output_type": "execute_result"
    }
   ],
   "source": [
    "data.head()"
   ]
  },
  {
   "cell_type": "code",
   "execution_count": 38,
   "metadata": {},
   "outputs": [],
   "source": [
    "data['Publishing group'] = data['Publishing group'].astype('int')"
   ]
  },
  {
   "cell_type": "code",
   "execution_count": 39,
   "metadata": {},
   "outputs": [
    {
     "data": {
      "text/plain": [
       "1     30920\n",
       "34    30209\n",
       "3     28334\n",
       "2     18200\n",
       "6     10268\n",
       "8      4303\n",
       "5      3556\n",
       "11     1457\n",
       "28     1112\n",
       "33      771\n",
       "13      514\n",
       "26      417\n",
       "32      296\n",
       "15      261\n",
       "29      133\n",
       "43      132\n",
       "7       113\n",
       "44       94\n",
       "17       29\n",
       "4        27\n",
       "0        13\n",
       "21       11\n",
       "10        5\n",
       "41        4\n",
       "23        3\n",
       "24        2\n",
       "18        1\n",
       "Name: Publishing group, dtype: int64"
      ]
     },
     "execution_count": 39,
     "metadata": {},
     "output_type": "execute_result"
    }
   ],
   "source": [
    "data['Publishing group'].value_counts()"
   ]
  },
  {
   "cell_type": "code",
   "execution_count": 40,
   "metadata": {},
   "outputs": [
    {
     "data": {
      "text/plain": [
       "<matplotlib.axes._subplots.AxesSubplot at 0x14cb05c3a58>"
      ]
     },
     "execution_count": 40,
     "metadata": {},
     "output_type": "execute_result"
    },
    {
     "data": {
      "image/png": "[encoded data removed]",
      "text/plain": [
       "<Figure size 1008x576 with 1 Axes>"
      ]
     },
     "metadata": {
      "needs_background": "light"
     },
     "output_type": "display_data"
    }
   ],
   "source": [
    "market = data.groupby('Publishing group')['# copies'].sum().reset_index()\n",
    "market['market_share'] = market['# copies']/market['# copies'].sum()*100\n",
    "market.plot(x = 'Publishing group', y= 'market_share', kind='bar', figsize=(14,8))"
   ]
  },
  {
   "cell_type": "code",
   "execution_count": 43,
   "metadata": {},
   "outputs": [],
   "source": [
    "customers = data.groupby('Publishing group')['Customer heading'].nunique().reset_index()"
   ]
  },
  {
   "cell_type": "code",
   "execution_count": 47,
   "metadata": {},
   "outputs": [
    {
     "data": {
      "text/plain": [
       "4844"
      ]
     },
     "execution_count": 47,
     "metadata": {},
     "output_type": "execute_result"
    }
   ],
   "source": [
    "customers['Customer heading'].sum()"
   ]
  },
  {
   "cell_type": "code",
   "execution_count": 53,
   "metadata": {},
   "outputs": [
    {
     "data": {
      "text/plain": [
       "<matplotlib.axes._subplots.AxesSubplot at 0x14cadfe7898>"
      ]
     },
     "execution_count": 53,
     "metadata": {},
     "output_type": "execute_result"
    },
    {
     "data": {
      "image/png": "[encoded data removed]",
      "text/plain": [
       "<Figure size 1008x648 with 1 Axes>"
      ]
     },
     "metadata": {
      "needs_background": "light"
     },
     "output_type": "display_data"
    }
   ],
   "source": [
    "customers['market_coverage'] = customers['Customer heading']/1315*100\n",
    "customers.plot(x= 'Publishing group', y = 'market_coverage', kind='bar', figsize = (14,9))"
   ]
  },
  {
   "cell_type": "code",
   "execution_count": 222,
   "metadata": {},
   "outputs": [
    {
     "data": {
      "text/plain": [
       "6249405"
      ]
     },
     "execution_count": 222,
     "metadata": {},
     "output_type": "execute_result"
    }
   ],
   "source": [
    "market['# copies'].sum()"
   ]
  },
  {
   "cell_type": "code",
   "execution_count": 162,
   "metadata": {},
   "outputs": [
    {
     "data": {
      "text/plain": [
       "1315"
      ]
     },
     "execution_count": 162,
     "metadata": {},
     "output_type": "execute_result"
    }
   ],
   "source": [
    "data[\"Customer heading\"].nunique()"
   ]
  },
  {
   "cell_type": "code",
   "execution_count": 210,
   "metadata": {},
   "outputs": [
    {
     "data": {
      "text/plain": [
       "<matplotlib.axes._subplots.AxesSubplot at 0x29b3f3fd2e8>"
      ]
     },
     "execution_count": 210,
     "metadata": {},
     "output_type": "execute_result"
    },
    {
     "data": {
      "image/png": "[encoded data removed]",
      "text/plain": [
       "<Figure size 1008x576 with 1 Axes>"
      ]
     },
     "metadata": {
      "needs_background": "light"
     },
     "output_type": "display_data"
    }
   ],
   "source": [
    "# Number of seller id´s per publishing group\n",
    "data.groupby('Publishing group')['Current Seller id'].count().plot(kind=\"bar\", figsize =(14,8))"
   ]
  },
  {
   "cell_type": "code",
   "execution_count": 192,
   "metadata": {},
   "outputs": [],
   "source": [
    "data_2 = data.groupby('Publishing group')['Current Seller id'].count()"
   ]
  },
  {
   "cell_type": "code",
   "execution_count": 193,
   "metadata": {},
   "outputs": [],
   "source": [
    "data_3 = data.groupby('Publishing group')['# copies'].sum()"
   ]
  },
  {
   "cell_type": "code",
   "execution_count": 216,
   "metadata": {},
   "outputs": [
    {
     "data": {
      "text/plain": [
       "<matplotlib.axes._subplots.AxesSubplot at 0x29b40bf0278>"
      ]
     },
     "execution_count": 216,
     "metadata": {},
     "output_type": "execute_result"
    },
    {
     "data": {
      "image/png": "[encoded data removed]",
      "text/plain": [
       "<Figure size 1008x648 with 1 Axes>"
      ]
     },
     "metadata": {
      "needs_background": "light"
     },
     "output_type": "display_data"
    }
   ],
   "source": [
    "data_4 = pd.merge(data_2, data_3, on=\"Publishing group\")\n",
    "data_4['efficiency'] = data_4['# copies']/data_4['Current Seller id']\n",
    "data_4.reset_index().plot(x= 'Publishing group', y = 'efficiency', kind='bar', figsize = (14,9))"
   ]
  },
  {
   "cell_type": "code",
   "execution_count": null,
   "metadata": {},
   "outputs": [],
   "source": []
  },
  {
   "cell_type": "code",
   "execution_count": 161,
   "metadata": {},
   "outputs": [
    {
     "data": {
      "text/plain": [
       "Customer heading\n",
       "136369.0    [2965, 2979, 2960, 2954, 3015, 2654, 2665, 266...\n",
       "136370.0    [2979, 2954, 3015, 2660, 3054, 2713, 2679, 271...\n",
       "136372.0    [2954, 2960, 2979, 2613, 3013, 3015, 2654, 266...\n",
       "136377.0    [2960, 2965, 2954, 2613, 3015, 3013, 2979, 265...\n",
       "136378.0    [2960, 2613, 2615, 3015, 3013, 2654, 2660, 306...\n",
       "136384.0    [2979, 2954, 2615, 2613, 3013, 2660, 2654, 305...\n",
       "136386.0    [2954, 2960, 3013, 3015, 2660, 3065, 3054, 306...\n",
       "136387.0    [2979, 2954, 2615, 2613, 3015, 2660, 2654, 306...\n",
       "136389.0    [2979, 2954, 3015, 2665, 2660, 3065, 3054, 271...\n",
       "136390.0    [2960, 2965, 2954, 3015, 3013, 2654, 2660, 266...\n",
       "136391.0    [2960, 2954, 2665, 2660, 2654, 3060, 2715, 267...\n",
       "136393.0    [2960, 2954, 2615, 2613, 3015, 3013, 2979, 265...\n",
       "136395.0    [2954, 2960, 3015, 2654, 2660, 3054, 2679, 271...\n",
       "136396.0    [2965, 2654, 2665, 2660, 3054, 3060, 2679, 307...\n",
       "136399.0    [2954, 2615, 2979, 2654, 3060, 2715, 2679, 307...\n",
       "136403.0    [2965, 2954, 2615, 2660, 2654, 3065, 3054, 306...\n",
       "136404.0    [2954, 2615, 2979, 3015, 2660, 2654, 3060, 306...\n",
       "136405.0    [2954, 2960, 2613, 3013, 3015, 2660, 3054, 306...\n",
       "136406.0    [2954, 2960, 2965, 2613, 2615, 3013, 3015, 297...\n",
       "136407.0    [2954, 2960, 2979, 2660, 3054, 3079, 2754, 276...\n",
       "136413.0    [2954, 2960, 3054, 3065, 2679, 3115, 3113, 276...\n",
       "136415.0    [2954, 2965, 3013, 2979, 3015, 3060, 3115, 307...\n",
       "136417.0    [2965, 2954, 2960, 3013, 3015, 2665, 2654, 271...\n",
       "136423.0    [2979, 2954, 2965, 2615, 3015, 2665, 2654, 266...\n",
       "136424.0    [2960, 2979, 2613, 3013, 3015, 2660, 2665, 306...\n",
       "136425.0    [2954, 2965, 2960, 2613, 2615, 3015, 3013, 266...\n",
       "136428.0    [2954, 2613, 2615, 3013, 3015, 2660, 2665, 265...\n",
       "136430.0    [2960, 2965, 2954, 2613, 2654, 2660, 3054, 306...\n",
       "136431.0    [2954, 2615, 2979, 2660, 2654, 2665, 3054, 306...\n",
       "136433.0    [2954, 2960, 2615, 2665, 2660, 3060, 3054, 271...\n",
       "                                  ...                        \n",
       "210414.0    [2960, 2615, 2613, 3013, 3015, 2654, 2665, 305...\n",
       "210654.0                             [2654, 2660, 2760, 2754]\n",
       "210744.0    [2960, 2954, 2660, 3060, 3054, 2760, 3154, 316...\n",
       "210778.0    [2954, 2965, 2979, 3013, 3060, 3065, 2679, 311...\n",
       "210814.0    [2965, 2615, 2979, 2665, 2660, 3054, 2715, 307...\n",
       "210818.0    [2965, 2954, 2960, 2660, 2654, 3060, 2754, 276...\n",
       "210821.0    [2979, 2660, 2654, 3065, 3054, 2679, 3079, 276...\n",
       "210822.0    [2960, 2954, 3060, 3079, 2760, 2754, 3160, 315...\n",
       "210866.0    [2960, 2979, 2665, 2654, 3060, 3065, 3054, 267...\n",
       "211300.0    [2960, 2979, 2654, 3054, 3060, 2679, 2754, 276...\n",
       "211351.0                       [2754, 2854, 2654, 3154, 2954]\n",
       "211545.0    [2965, 2960, 3015, 2654, 2660, 2665, 3065, 306...\n",
       "211649.0    [2954, 2615, 2654, 2754, 3160, 2854, 2960, 266...\n",
       "211817.0    [2954, 2965, 2960, 2615, 2613, 3015, 2660, 265...\n",
       "211880.0    [2954, 2960, 2615, 3015, 2979, 2654, 3054, 267...\n",
       "211978.0                                         [2654, 2679]\n",
       "212042.0                       [2679, 2754, 2760, 2779, 2660]\n",
       "212293.0    [2960, 3060, 3065, 2754, 2760, 3160, 2779, 317...\n",
       "212376.0    [2965, 2615, 2979, 3013, 2665, 2660, 2654, 305...\n",
       "212424.0    [2954, 2960, 2979, 2654, 2665, 2679, 3079, 276...\n",
       "212429.0    [2960, 2954, 2615, 3015, 2979, 2654, 2665, 305...\n",
       "212438.0    [2954, 2960, 2965, 2615, 3015, 3013, 2660, 305...\n",
       "212461.0    [2960, 2954, 2965, 2615, 2613, 3015, 3013, 266...\n",
       "212528.0    [2954, 2654, 2660, 3054, 3065, 3060, 3079, 275...\n",
       "212529.0    [2954, 2965, 2960, 2613, 3013, 2654, 3065, 305...\n",
       "212625.0    [2960, 2615, 2613, 3013, 3015, 2660, 3060, 271...\n",
       "212675.0    [2960, 2965, 3015, 2979, 2665, 3065, 3060, 271...\n",
       "212705.0    [2954, 2960, 2965, 2615, 2613, 3013, 2979, 301...\n",
       "212717.0    [2965, 2979, 2654, 3065, 3079, 2754, 2765, 276...\n",
       "212719.0    [2954, 2965, 2615, 3013, 3015, 2979, 2654, 266...\n",
       "Name: key, Length: 1315, dtype: object"
      ]
     },
     "execution_count": 161,
     "metadata": {},
     "output_type": "execute_result"
    }
   ],
   "source": [
    "# Total number of subject*course per customer heading (all publishing groups)\n",
    "subject_course_customer = data.groupby(\"Customer heading\")[\"key\"].unique()\n",
    "subject_course_customer"
   ]
  },
  {
   "cell_type": "code",
   "execution_count": 105,
   "metadata": {},
   "outputs": [],
   "source": [
    "data_1 = data.loc[data['Publishing group'] == \"1\"]"
   ]
  },
  {
   "cell_type": "code",
   "execution_count": 125,
   "metadata": {},
   "outputs": [
    {
     "data": {
      "text/plain": [
       "819"
      ]
     },
     "execution_count": 125,
     "metadata": {},
     "output_type": "execute_result"
    }
   ],
   "source": [
    "data_1['Customer heading'].nunique()"
   ]
  },
  {
   "cell_type": "code",
   "execution_count": 131,
   "metadata": {},
   "outputs": [
    {
     "data": {
      "text/plain": [
       "<matplotlib.axes._subplots.AxesSubplot at 0x29b76767dd8>"
      ]
     },
     "execution_count": 131,
     "metadata": {},
     "output_type": "execute_result"
    },
    {
     "data": {
      "image/png": "[encoded data removed]",
      "text/plain": [
       "<Figure size 1440x720 with 1 Axes>"
      ]
     },
     "metadata": {
      "needs_background": "light"
     },
     "output_type": "display_data"
    }
   ],
   "source": [
    "subject_course_customer_1 = data_1.groupby([\"Customer heading\"])[\"key\"].nunique()\n",
    "subject_course_customer_1.plot(kind=\"bar\", figsize=(20,10))"
   ]
  },
  {
   "cell_type": "code",
   "execution_count": 156,
   "metadata": {},
   "outputs": [
    {
     "data": {
      "text/plain": [
       "<matplotlib.axes._subplots.AxesSubplot at 0x29b1c5ea0f0>"
      ]
     },
     "execution_count": 156,
     "metadata": {},
     "output_type": "execute_result"
    },
    {
     "data": {
      "image/png": "[encoded data removed]",
      "text/plain": [
       "<Figure size 1440x720 with 1 Axes>"
      ]
     },
     "metadata": {
      "needs_background": "light"
     },
     "output_type": "display_data"
    }
   ],
   "source": [
    "subject_course_customer_1 = pd.DataFrame(subject_course_customer_1)\n",
    "subject_course_customer_1 = subject_course_customer_1.sort_values(by=['key'], ascending=False).head(100)\n",
    "subject_course_customer_1.plot(kind=\"bar\", figsize=(20,10))"
   ]
  },
  {
   "cell_type": "code",
   "execution_count": 20,
   "metadata": {},
   "outputs": [
    {
     "name": "stdout",
     "output_type": "stream",
     "text": [
      "Customer heading\n",
      "Latitude\n",
      "Longitude\n",
      "Town\n",
      "Province\n",
      "Region\n",
      "Current Seller id\n",
      "Institution\n",
      "Titularity\n"
     ]
    }
   ],
   "source": [
    "#for col in School_locations.columns:\n",
    "    #print (col)"
   ]
  },
  {
   "cell_type": "code",
   "execution_count": 6,
   "metadata": {},
   "outputs": [
    {
     "data": {
      "text/plain": [
       "Customer heading             False\n",
       "Current id_Representative     True\n",
       "2011                          True\n",
       "2012                          True\n",
       "2013                          True\n",
       "2014                          True\n",
       "2015                          True\n",
       "2016                          True\n",
       "2017                          True\n",
       "2018                          True\n",
       "2019                          True\n",
       "dtype: bool"
      ]
     },
     "execution_count": 6,
     "metadata": {},
     "output_type": "execute_result"
    }
   ],
   "source": [
    "Coverages.isnull().any()"
   ]
  },
  {
   "cell_type": "code",
   "execution_count": 10,
   "metadata": {},
   "outputs": [
    {
     "data": {
      "text/plain": [
       "0"
      ]
     },
     "execution_count": 10,
     "metadata": {},
     "output_type": "execute_result"
    }
   ],
   "source": [
    "Coverages.duplicated(subset=None).sum()"
   ]
  },
  {
   "cell_type": "code",
   "execution_count": 8,
   "metadata": {},
   "outputs": [
    {
     "data": {
      "text/plain": [
       "(122171, 11)"
      ]
     },
     "execution_count": 8,
     "metadata": {},
     "output_type": "execute_result"
    }
   ],
   "source": [
    "Coverages.shape"
   ]
  },
  {
   "cell_type": "code",
   "execution_count": 93,
   "metadata": {},
   "outputs": [
    {
     "data": {
      "text/plain": [
       "(20191, 9)"
      ]
     },
     "execution_count": 93,
     "metadata": {},
     "output_type": "execute_result"
    }
   ],
   "source": [
    "School_locations.shape"
   ]
  },
  {
   "cell_type": "code",
   "execution_count": 94,
   "metadata": {},
   "outputs": [
    {
     "data": {
      "text/plain": [
       "(159550, 8)"
      ]
     },
     "execution_count": 94,
     "metadata": {},
     "output_type": "execute_result"
    }
   ],
   "source": [
    "Activities.shape"
   ]
  },
  {
   "cell_type": "code",
   "execution_count": 9,
   "metadata": {},
   "outputs": [
    {
     "data": {
      "text/plain": [
       "6278"
      ]
     },
     "execution_count": 9,
     "metadata": {},
     "output_type": "execute_result"
    }
   ],
   "source": [
    "Activities.duplicated(subset=None).sum()"
   ]
  },
  {
   "cell_type": "code",
   "execution_count": 11,
   "metadata": {},
   "outputs": [
    {
     "data": {
      "text/plain": [
       "Date                      599\n",
       "Type activity              11\n",
       "Customer heading        15206\n",
       "Cicle / Department 1       35\n",
       "Cicle / Department 2       34\n",
       "Cicle / Department 3       30\n",
       "Cicle / Department 4       23\n",
       "Delegation                 11\n",
       "dtype: int64"
      ]
     },
     "execution_count": 11,
     "metadata": {},
     "output_type": "execute_result"
    }
   ],
   "source": [
    "Activities.nunique()"
   ]
  },
  {
   "cell_type": "code",
   "execution_count": 70,
   "metadata": {},
   "outputs": [],
   "source": [
    "#survey_school.loc[survey_school['Publishing group'] == 1].head()"
   ]
  },
  {
   "cell_type": "code",
   "execution_count": 33,
   "metadata": {},
   "outputs": [
    {
     "data": {
      "text/plain": [
       "# copies                 200\n",
       "Course                     6\n",
       "Customer heading        1315\n",
       "Publishing group          31\n",
       "Subject                    6\n",
       "Type Current Support       3\n",
       "Year                       5\n",
       "Latitude                1290\n",
       "Longitude               1286\n",
       "Town                     144\n",
       "Current Seller id         17\n",
       "Institution                2\n",
       "Titularity                 3\n",
       "key                       31\n",
       "dtype: int64"
      ]
     },
     "execution_count": 33,
     "metadata": {},
     "output_type": "execute_result"
    }
   ],
   "source": [
    "survey_school.nunique()"
   ]
  },
  {
   "cell_type": "code",
   "execution_count": null,
   "metadata": {},
   "outputs": [],
   "source": []
  },
  {
   "cell_type": "code",
   "execution_count": null,
   "metadata": {},
   "outputs": [],
   "source": []
  },
  {
   "cell_type": "code",
   "execution_count": 40,
   "metadata": {},
   "outputs": [],
   "source": [
    "data = Activities.merge(School_locations, on=\"Customer heading\", how='left')"
   ]
  },
  {
   "cell_type": "code",
   "execution_count": 42,
   "metadata": {},
   "outputs": [
    {
     "data": {
      "text/plain": [
       "(159550, 16)"
      ]
     },
     "execution_count": 42,
     "metadata": {},
     "output_type": "execute_result"
    }
   ],
   "source": [
    "data.shape"
   ]
  },
  {
   "cell_type": "code",
   "execution_count": 45,
   "metadata": {},
   "outputs": [
    {
     "data": {
      "text/html": [
       "<div>\n",
       "<style scoped>\n",
       "    .dataframe tbody tr th:only-of-type {\n",
       "        vertical-align: middle;\n",
       "    }\n",
       "\n",
       "    .dataframe tbody tr th {\n",
       "        vertical-align: top;\n",
       "    }\n",
       "\n",
       "    .dataframe thead th {\n",
       "        text-align: right;\n",
       "    }\n",
       "</style>\n",
       "<table border=\"1\" class=\"dataframe\">\n",
       "  <thead>\n",
       "    <tr style=\"text-align: right;\">\n",
       "      <th></th>\n",
       "      <th>Date</th>\n",
       "      <th>Type activity</th>\n",
       "      <th>Customer heading</th>\n",
       "      <th>Cicle / Department 1</th>\n",
       "      <th>Cicle / Department 2</th>\n",
       "      <th>Cicle / Department 3</th>\n",
       "      <th>Cicle / Department 4</th>\n",
       "      <th>Delegation</th>\n",
       "      <th>Latitude</th>\n",
       "      <th>Longitude</th>\n",
       "      <th>Town</th>\n",
       "      <th>Province</th>\n",
       "      <th>Region</th>\n",
       "      <th>Current Seller id</th>\n",
       "      <th>Institution</th>\n",
       "      <th>Titularity</th>\n",
       "    </tr>\n",
       "  </thead>\n",
       "  <tbody>\n",
       "    <tr>\n",
       "      <th>0</th>\n",
       "      <td>2018-07-02</td>\n",
       "      <td>Commercial</td>\n",
       "      <td>122996.0</td>\n",
       "      <td>ADMINISTRATION</td>\n",
       "      <td>NaN</td>\n",
       "      <td>NaN</td>\n",
       "      <td>NaN</td>\n",
       "      <td>PAÍS VASCO</td>\n",
       "      <td>43.303929</td>\n",
       "      <td>-1.973407</td>\n",
       "      <td>DONOSTIA-SAN SEBASTIAN</td>\n",
       "      <td>Guipúzcoa</td>\n",
       "      <td>País Vasco</td>\n",
       "      <td>132.0</td>\n",
       "      <td>No</td>\n",
       "      <td>Catholic</td>\n",
       "    </tr>\n",
       "    <tr>\n",
       "      <th>1</th>\n",
       "      <td>2018-07-02</td>\n",
       "      <td>Commercial</td>\n",
       "      <td>171905.0</td>\n",
       "      <td>ADMINISTRATION</td>\n",
       "      <td>NaN</td>\n",
       "      <td>NaN</td>\n",
       "      <td>NaN</td>\n",
       "      <td>ANDALUCÍA-EXTREMADURA</td>\n",
       "      <td>36.720981</td>\n",
       "      <td>-4.421290</td>\n",
       "      <td>MALAGA</td>\n",
       "      <td>Málaga</td>\n",
       "      <td>Andalucía</td>\n",
       "      <td>175.0</td>\n",
       "      <td>No</td>\n",
       "      <td>Catholic</td>\n",
       "    </tr>\n",
       "    <tr>\n",
       "      <th>2</th>\n",
       "      <td>2018-07-03</td>\n",
       "      <td>Implementation</td>\n",
       "      <td>196818.0</td>\n",
       "      <td>ADMINISTRATION</td>\n",
       "      <td>NaN</td>\n",
       "      <td>NaN</td>\n",
       "      <td>NaN</td>\n",
       "      <td>CANARIAS</td>\n",
       "      <td>NaN</td>\n",
       "      <td>NaN</td>\n",
       "      <td>LA OROTAVA</td>\n",
       "      <td>STA.CRUZ TENERIFE</td>\n",
       "      <td>NaN</td>\n",
       "      <td>NaN</td>\n",
       "      <td>Yes</td>\n",
       "      <td>NaN</td>\n",
       "    </tr>\n",
       "    <tr>\n",
       "      <th>3</th>\n",
       "      <td>2018-07-03</td>\n",
       "      <td>Commercial</td>\n",
       "      <td>122652.0</td>\n",
       "      <td>ADMINISTRATION</td>\n",
       "      <td>NaN</td>\n",
       "      <td>NaN</td>\n",
       "      <td>NaN</td>\n",
       "      <td>ANDALUCÍA-EXTREMADURA</td>\n",
       "      <td>37.265197</td>\n",
       "      <td>-3.713587</td>\n",
       "      <td>ATARFE</td>\n",
       "      <td>Granada</td>\n",
       "      <td>Andalucía</td>\n",
       "      <td>125.0</td>\n",
       "      <td>Yes</td>\n",
       "      <td>Private</td>\n",
       "    </tr>\n",
       "    <tr>\n",
       "      <th>4</th>\n",
       "      <td>2018-07-03</td>\n",
       "      <td>Commercial</td>\n",
       "      <td>212353.0</td>\n",
       "      <td>ADMINISTRATION</td>\n",
       "      <td>NaN</td>\n",
       "      <td>NaN</td>\n",
       "      <td>NaN</td>\n",
       "      <td>ANDALUCÍA-EXTREMADURA</td>\n",
       "      <td>36.724936</td>\n",
       "      <td>-4.367933</td>\n",
       "      <td>MALAGA</td>\n",
       "      <td>Málaga</td>\n",
       "      <td>Andalucía</td>\n",
       "      <td>206.0</td>\n",
       "      <td>No</td>\n",
       "      <td>Catholic</td>\n",
       "    </tr>\n",
       "  </tbody>\n",
       "</table>\n",
       "</div>"
      ],
      "text/plain": [
       "        Date   Type activity  Customer heading Cicle / Department 1  \\\n",
       "0 2018-07-02      Commercial          122996.0       ADMINISTRATION   \n",
       "1 2018-07-02      Commercial          171905.0       ADMINISTRATION   \n",
       "2 2018-07-03  Implementation          196818.0       ADMINISTRATION   \n",
       "3 2018-07-03      Commercial          122652.0       ADMINISTRATION   \n",
       "4 2018-07-03      Commercial          212353.0       ADMINISTRATION   \n",
       "\n",
       "  Cicle / Department 2 Cicle / Department 3 Cicle / Department 4  \\\n",
       "0                  NaN                  NaN                  NaN   \n",
       "1                  NaN                  NaN                  NaN   \n",
       "2                  NaN                  NaN                  NaN   \n",
       "3                  NaN                  NaN                  NaN   \n",
       "4                  NaN                  NaN                  NaN   \n",
       "\n",
       "              Delegation   Latitude  Longitude                    Town  \\\n",
       "0             PAÍS VASCO  43.303929  -1.973407  DONOSTIA-SAN SEBASTIAN   \n",
       "1  ANDALUCÍA-EXTREMADURA  36.720981  -4.421290                  MALAGA   \n",
       "2               CANARIAS        NaN        NaN              LA OROTAVA   \n",
       "3  ANDALUCÍA-EXTREMADURA  37.265197  -3.713587                  ATARFE   \n",
       "4  ANDALUCÍA-EXTREMADURA  36.724936  -4.367933                  MALAGA   \n",
       "\n",
       "            Province      Region  Current Seller id Institution Titularity  \n",
       "0          Guipúzcoa  País Vasco              132.0          No   Catholic  \n",
       "1             Málaga   Andalucía              175.0          No   Catholic  \n",
       "2  STA.CRUZ TENERIFE         NaN                NaN         Yes        NaN  \n",
       "3            Granada   Andalucía              125.0         Yes    Private  \n",
       "4             Málaga   Andalucía              206.0          No   Catholic  "
      ]
     },
     "execution_count": 45,
     "metadata": {},
     "output_type": "execute_result"
    }
   ],
   "source": [
    "data.head()"
   ]
  },
  {
   "cell_type": "code",
   "execution_count": 53,
   "metadata": {},
   "outputs": [
    {
     "ename": "AttributeError",
     "evalue": "'function' object has no attribute 'count'",
     "output_type": "error",
     "traceback": [
      "\u001b[1;31m---------------------------------------------------------------------------\u001b[0m",
      "\u001b[1;31mAttributeError\u001b[0m                            Traceback (most recent call last)",
      "\u001b[1;32m<ipython-input-53-00011ae530d9>\u001b[0m in \u001b[0;36m<module>\u001b[1;34m\u001b[0m\n\u001b[1;32m----> 1\u001b[1;33m \u001b[0mdata\u001b[0m\u001b[1;33m.\u001b[0m\u001b[0mgroupby\u001b[0m\u001b[1;33m(\u001b[0m\u001b[1;34m\"Customer heading\"\u001b[0m\u001b[1;33m)\u001b[0m\u001b[1;33m[\u001b[0m\u001b[1;34m\"Type activity\"\u001b[0m\u001b[1;33m]\u001b[0m\u001b[1;33m.\u001b[0m\u001b[0munique\u001b[0m\u001b[1;33m.\u001b[0m\u001b[0mcount\u001b[0m\u001b[1;33m\u001b[0m\u001b[1;33m\u001b[0m\u001b[0m\n\u001b[0m",
      "\u001b[1;31mAttributeError\u001b[0m: 'function' object has no attribute 'count'"
     ]
    }
   ],
   "source": [
    "data.groupby(\"Customer heading\")[\"Type activity\"].unique.count"
   ]
  },
  {
   "cell_type": "code",
   "execution_count": 13,
   "metadata": {},
   "outputs": [],
   "source": [
    "#data = data.merge(Coverages, on=\"Customer heading\", how='left')"
   ]
  },
  {
   "cell_type": "code",
   "execution_count": 14,
   "metadata": {},
   "outputs": [
    {
     "data": {
      "text/html": [
       "<div>\n",
       "<style scoped>\n",
       "    .dataframe tbody tr th:only-of-type {\n",
       "        vertical-align: middle;\n",
       "    }\n",
       "\n",
       "    .dataframe tbody tr th {\n",
       "        vertical-align: top;\n",
       "    }\n",
       "\n",
       "    .dataframe thead th {\n",
       "        text-align: right;\n",
       "    }\n",
       "</style>\n",
       "<table border=\"1\" class=\"dataframe\">\n",
       "  <thead>\n",
       "    <tr style=\"text-align: right;\">\n",
       "      <th></th>\n",
       "      <th>Date</th>\n",
       "      <th>Type activity</th>\n",
       "      <th>Customer heading</th>\n",
       "      <th>Cicle / Department 1</th>\n",
       "      <th>Cicle / Department 2</th>\n",
       "      <th>Cicle / Department 3</th>\n",
       "      <th>Cicle / Department 4</th>\n",
       "      <th>Delegation</th>\n",
       "      <th>Latitude</th>\n",
       "      <th>Longitude</th>\n",
       "      <th>...</th>\n",
       "      <th>Current id_Representative</th>\n",
       "      <th>2011</th>\n",
       "      <th>2012</th>\n",
       "      <th>2013</th>\n",
       "      <th>2014</th>\n",
       "      <th>2015</th>\n",
       "      <th>2016</th>\n",
       "      <th>2017</th>\n",
       "      <th>2018</th>\n",
       "      <th>2019</th>\n",
       "    </tr>\n",
       "  </thead>\n",
       "  <tbody>\n",
       "    <tr>\n",
       "      <th>0</th>\n",
       "      <td>2018-07-02</td>\n",
       "      <td>Commercial</td>\n",
       "      <td>122996.0</td>\n",
       "      <td>ADMINISTRATION</td>\n",
       "      <td>NaN</td>\n",
       "      <td>NaN</td>\n",
       "      <td>NaN</td>\n",
       "      <td>PAÍS VASCO</td>\n",
       "      <td>43.303929</td>\n",
       "      <td>-1.973407</td>\n",
       "      <td>...</td>\n",
       "      <td>1170.0</td>\n",
       "      <td>1.0</td>\n",
       "      <td>1.0</td>\n",
       "      <td>1.0</td>\n",
       "      <td>NaN</td>\n",
       "      <td>NaN</td>\n",
       "      <td>NaN</td>\n",
       "      <td>NaN</td>\n",
       "      <td>NaN</td>\n",
       "      <td>NaN</td>\n",
       "    </tr>\n",
       "    <tr>\n",
       "      <th>1</th>\n",
       "      <td>2018-07-02</td>\n",
       "      <td>Commercial</td>\n",
       "      <td>122996.0</td>\n",
       "      <td>ADMINISTRATION</td>\n",
       "      <td>NaN</td>\n",
       "      <td>NaN</td>\n",
       "      <td>NaN</td>\n",
       "      <td>PAÍS VASCO</td>\n",
       "      <td>43.303929</td>\n",
       "      <td>-1.973407</td>\n",
       "      <td>...</td>\n",
       "      <td>1019.0</td>\n",
       "      <td>NaN</td>\n",
       "      <td>NaN</td>\n",
       "      <td>NaN</td>\n",
       "      <td>1.0</td>\n",
       "      <td>NaN</td>\n",
       "      <td>NaN</td>\n",
       "      <td>NaN</td>\n",
       "      <td>NaN</td>\n",
       "      <td>NaN</td>\n",
       "    </tr>\n",
       "    <tr>\n",
       "      <th>2</th>\n",
       "      <td>2018-07-02</td>\n",
       "      <td>Commercial</td>\n",
       "      <td>122996.0</td>\n",
       "      <td>ADMINISTRATION</td>\n",
       "      <td>NaN</td>\n",
       "      <td>NaN</td>\n",
       "      <td>NaN</td>\n",
       "      <td>PAÍS VASCO</td>\n",
       "      <td>43.303929</td>\n",
       "      <td>-1.973407</td>\n",
       "      <td>...</td>\n",
       "      <td>1302.0</td>\n",
       "      <td>NaN</td>\n",
       "      <td>NaN</td>\n",
       "      <td>NaN</td>\n",
       "      <td>NaN</td>\n",
       "      <td>1.0</td>\n",
       "      <td>1.0</td>\n",
       "      <td>NaN</td>\n",
       "      <td>NaN</td>\n",
       "      <td>NaN</td>\n",
       "    </tr>\n",
       "    <tr>\n",
       "      <th>3</th>\n",
       "      <td>2018-07-02</td>\n",
       "      <td>Commercial</td>\n",
       "      <td>122996.0</td>\n",
       "      <td>ADMINISTRATION</td>\n",
       "      <td>NaN</td>\n",
       "      <td>NaN</td>\n",
       "      <td>NaN</td>\n",
       "      <td>PAÍS VASCO</td>\n",
       "      <td>43.303929</td>\n",
       "      <td>-1.973407</td>\n",
       "      <td>...</td>\n",
       "      <td>1110.0</td>\n",
       "      <td>NaN</td>\n",
       "      <td>NaN</td>\n",
       "      <td>NaN</td>\n",
       "      <td>NaN</td>\n",
       "      <td>NaN</td>\n",
       "      <td>NaN</td>\n",
       "      <td>1.0</td>\n",
       "      <td>1.0</td>\n",
       "      <td>1.0</td>\n",
       "    </tr>\n",
       "    <tr>\n",
       "      <th>4</th>\n",
       "      <td>2018-07-02</td>\n",
       "      <td>Commercial</td>\n",
       "      <td>171905.0</td>\n",
       "      <td>ADMINISTRATION</td>\n",
       "      <td>NaN</td>\n",
       "      <td>NaN</td>\n",
       "      <td>NaN</td>\n",
       "      <td>ANDALUCÍA-EXTREMADURA</td>\n",
       "      <td>36.720981</td>\n",
       "      <td>-4.421290</td>\n",
       "      <td>...</td>\n",
       "      <td>1249.0</td>\n",
       "      <td>1.0</td>\n",
       "      <td>1.0</td>\n",
       "      <td>1.0</td>\n",
       "      <td>1.0</td>\n",
       "      <td>NaN</td>\n",
       "      <td>NaN</td>\n",
       "      <td>NaN</td>\n",
       "      <td>NaN</td>\n",
       "      <td>NaN</td>\n",
       "    </tr>\n",
       "  </tbody>\n",
       "</table>\n",
       "<p>5 rows × 26 columns</p>\n",
       "</div>"
      ],
      "text/plain": [
       "        Date Type activity  Customer heading Cicle / Department 1  \\\n",
       "0 2018-07-02    Commercial          122996.0       ADMINISTRATION   \n",
       "1 2018-07-02    Commercial          122996.0       ADMINISTRATION   \n",
       "2 2018-07-02    Commercial          122996.0       ADMINISTRATION   \n",
       "3 2018-07-02    Commercial          122996.0       ADMINISTRATION   \n",
       "4 2018-07-02    Commercial          171905.0       ADMINISTRATION   \n",
       "\n",
       "  Cicle / Department 2 Cicle / Department 3 Cicle / Department 4  \\\n",
       "0                  NaN                  NaN                  NaN   \n",
       "1                  NaN                  NaN                  NaN   \n",
       "2                  NaN                  NaN                  NaN   \n",
       "3                  NaN                  NaN                  NaN   \n",
       "4                  NaN                  NaN                  NaN   \n",
       "\n",
       "              Delegation   Latitude  Longitude  ... Current id_Representative  \\\n",
       "0             PAÍS VASCO  43.303929  -1.973407  ...                    1170.0   \n",
       "1             PAÍS VASCO  43.303929  -1.973407  ...                    1019.0   \n",
       "2             PAÍS VASCO  43.303929  -1.973407  ...                    1302.0   \n",
       "3             PAÍS VASCO  43.303929  -1.973407  ...                    1110.0   \n",
       "4  ANDALUCÍA-EXTREMADURA  36.720981  -4.421290  ...                    1249.0   \n",
       "\n",
       "  2011 2012  2013 2014 2015  2016  2017  2018  2019  \n",
       "0  1.0  1.0   1.0  NaN  NaN   NaN   NaN   NaN   NaN  \n",
       "1  NaN  NaN   NaN  1.0  NaN   NaN   NaN   NaN   NaN  \n",
       "2  NaN  NaN   NaN  NaN  1.0   1.0   NaN   NaN   NaN  \n",
       "3  NaN  NaN   NaN  NaN  NaN   NaN   1.0   1.0   1.0  \n",
       "4  1.0  1.0   1.0  1.0  NaN   NaN   NaN   NaN   NaN  \n",
       "\n",
       "[5 rows x 26 columns]"
      ]
     },
     "execution_count": 14,
     "metadata": {},
     "output_type": "execute_result"
    }
   ],
   "source": [
    "data.head()"
   ]
  },
  {
   "cell_type": "code",
   "execution_count": 15,
   "metadata": {},
   "outputs": [],
   "source": [
    "data.to_csv(\"Activities_joined_joined.csv\")"
   ]
  },
  {
   "cell_type": "code",
   "execution_count": 18,
   "metadata": {},
   "outputs": [
    {
     "data": {
      "text/plain": [
       "array(['PAÍS VASCO', 'ANDALUCÍA-EXTREMADURA', 'CANARIAS',\n",
       "       'CASTILLA-LA MANCHA', 'NOROESTE', 'CATALUÑA', 'MADRID CENTRO',\n",
       "       'LEVANTE', 'ZARAGOZA', 'CENTRAL', 'INSTITUCIONAL', nan],\n",
       "      dtype=object)"
      ]
     },
     "execution_count": 18,
     "metadata": {},
     "output_type": "execute_result"
    }
   ],
   "source": [
    "data.Delegation.unique()"
   ]
  },
  {
   "cell_type": "code",
   "execution_count": 19,
   "metadata": {},
   "outputs": [
    {
     "data": {
      "text/plain": [
       "array(['País Vasco', 'Andalucía', nan, 'Castilla la Mancha', 'Navarra',\n",
       "       'Castilla y León', 'Cataluña', 'Madrid', 'Islas Canarias',\n",
       "       'Comunidad Valenciana', 'Aragón', 'Galicia', 'Extremadura',\n",
       "       'Asturias', 'Murcia', 'La Rioja', 'Islas Baleares', 'Sin asignar',\n",
       "       'Cantabria', 'Melilla', 'Ceuta'], dtype=object)"
      ]
     },
     "execution_count": 19,
     "metadata": {},
     "output_type": "execute_result"
    }
   ],
   "source": [
    "data.Region.unique()"
   ]
  },
  {
   "cell_type": "code",
   "execution_count": 27,
   "metadata": {},
   "outputs": [
    {
     "data": {
      "text/plain": [
       "array(['Commercial', 'Implementation', 'Internal', 'Others', 'Support',\n",
       "       'Administration', 'Collect Information', 'Presentation',\n",
       "       'Prospecting', 'Customer training', 'In-house training', nan],\n",
       "      dtype=object)"
      ]
     },
     "execution_count": 27,
     "metadata": {},
     "output_type": "execute_result"
    }
   ],
   "source": [
    "data['Type activity'].unique()"
   ]
  },
  {
   "cell_type": "code",
   "execution_count": 34,
   "metadata": {},
   "outputs": [
    {
     "data": {
      "text/html": [
       "<div>\n",
       "<style scoped>\n",
       "    .dataframe tbody tr th:only-of-type {\n",
       "        vertical-align: middle;\n",
       "    }\n",
       "\n",
       "    .dataframe tbody tr th {\n",
       "        vertical-align: top;\n",
       "    }\n",
       "\n",
       "    .dataframe thead th {\n",
       "        text-align: right;\n",
       "    }\n",
       "</style>\n",
       "<table border=\"1\" class=\"dataframe\">\n",
       "  <thead>\n",
       "    <tr style=\"text-align: right;\">\n",
       "      <th></th>\n",
       "      <th>Customer heading</th>\n",
       "      <th>Current id_Representative</th>\n",
       "      <th>2011</th>\n",
       "      <th>2012</th>\n",
       "      <th>2013</th>\n",
       "      <th>2014</th>\n",
       "      <th>2015</th>\n",
       "      <th>2016</th>\n",
       "      <th>2017</th>\n",
       "      <th>2018</th>\n",
       "      <th>2019</th>\n",
       "    </tr>\n",
       "  </thead>\n",
       "  <tbody>\n",
       "    <tr>\n",
       "      <th>0</th>\n",
       "      <td>113896</td>\n",
       "      <td>1228.0</td>\n",
       "      <td>1.0</td>\n",
       "      <td>1.0</td>\n",
       "      <td>1.0</td>\n",
       "      <td>1.0</td>\n",
       "      <td>1.0</td>\n",
       "      <td>1.0</td>\n",
       "      <td>1.0</td>\n",
       "      <td>1.0</td>\n",
       "      <td>1.0</td>\n",
       "    </tr>\n",
       "    <tr>\n",
       "      <th>1</th>\n",
       "      <td>113897</td>\n",
       "      <td>1228.0</td>\n",
       "      <td>1.0</td>\n",
       "      <td>1.0</td>\n",
       "      <td>1.0</td>\n",
       "      <td>1.0</td>\n",
       "      <td>1.0</td>\n",
       "      <td>1.0</td>\n",
       "      <td>1.0</td>\n",
       "      <td>1.0</td>\n",
       "      <td>1.0</td>\n",
       "    </tr>\n",
       "    <tr>\n",
       "      <th>2</th>\n",
       "      <td>113898</td>\n",
       "      <td>1000.0</td>\n",
       "      <td>1.0</td>\n",
       "      <td>1.0</td>\n",
       "      <td>1.0</td>\n",
       "      <td>1.0</td>\n",
       "      <td>1.0</td>\n",
       "      <td>1.0</td>\n",
       "      <td>NaN</td>\n",
       "      <td>NaN</td>\n",
       "      <td>NaN</td>\n",
       "    </tr>\n",
       "    <tr>\n",
       "      <th>3</th>\n",
       "      <td>113898</td>\n",
       "      <td>1167.0</td>\n",
       "      <td>NaN</td>\n",
       "      <td>NaN</td>\n",
       "      <td>NaN</td>\n",
       "      <td>NaN</td>\n",
       "      <td>NaN</td>\n",
       "      <td>NaN</td>\n",
       "      <td>1.0</td>\n",
       "      <td>1.0</td>\n",
       "      <td>1.0</td>\n",
       "    </tr>\n",
       "    <tr>\n",
       "      <th>4</th>\n",
       "      <td>113899</td>\n",
       "      <td>1228.0</td>\n",
       "      <td>1.0</td>\n",
       "      <td>1.0</td>\n",
       "      <td>1.0</td>\n",
       "      <td>1.0</td>\n",
       "      <td>1.0</td>\n",
       "      <td>1.0</td>\n",
       "      <td>1.0</td>\n",
       "      <td>1.0</td>\n",
       "      <td>1.0</td>\n",
       "    </tr>\n",
       "  </tbody>\n",
       "</table>\n",
       "</div>"
      ],
      "text/plain": [
       "   Customer heading  Current id_Representative  2011  2012  2013  2014  2015  \\\n",
       "0            113896                     1228.0   1.0   1.0   1.0   1.0   1.0   \n",
       "1            113897                     1228.0   1.0   1.0   1.0   1.0   1.0   \n",
       "2            113898                     1000.0   1.0   1.0   1.0   1.0   1.0   \n",
       "3            113898                     1167.0   NaN   NaN   NaN   NaN   NaN   \n",
       "4            113899                     1228.0   1.0   1.0   1.0   1.0   1.0   \n",
       "\n",
       "   2016  2017  2018  2019  \n",
       "0   1.0   1.0   1.0   1.0  \n",
       "1   1.0   1.0   1.0   1.0  \n",
       "2   1.0   NaN   NaN   NaN  \n",
       "3   NaN   1.0   1.0   1.0  \n",
       "4   1.0   1.0   1.0   1.0  "
      ]
     },
     "execution_count": 34,
     "metadata": {},
     "output_type": "execute_result"
    }
   ],
   "source": [
    "Coverages.head()"
   ]
  },
  {
   "cell_type": "code",
   "execution_count": 56,
   "metadata": {},
   "outputs": [
    {
     "data": {
      "text/html": [
       "<div>\n",
       "<style scoped>\n",
       "    .dataframe tbody tr th:only-of-type {\n",
       "        vertical-align: middle;\n",
       "    }\n",
       "\n",
       "    .dataframe tbody tr th {\n",
       "        vertical-align: top;\n",
       "    }\n",
       "\n",
       "    .dataframe thead th {\n",
       "        text-align: right;\n",
       "    }\n",
       "</style>\n",
       "<table border=\"1\" class=\"dataframe\">\n",
       "  <thead>\n",
       "    <tr style=\"text-align: right;\">\n",
       "      <th></th>\n",
       "      <th># copies</th>\n",
       "      <th>Course</th>\n",
       "      <th>Customer heading</th>\n",
       "      <th>Educational Material</th>\n",
       "      <th>Language</th>\n",
       "      <th>Publishing group</th>\n",
       "      <th>Subject</th>\n",
       "      <th>Type Current Support</th>\n",
       "      <th>Year</th>\n",
       "    </tr>\n",
       "  </thead>\n",
       "  <tbody>\n",
       "    <tr>\n",
       "      <th>0</th>\n",
       "      <td>18</td>\n",
       "      <td>29</td>\n",
       "      <td>113958.0</td>\n",
       "      <td>3</td>\n",
       "      <td>26</td>\n",
       "      <td>25</td>\n",
       "      <td>53</td>\n",
       "      <td>1</td>\n",
       "      <td>2019</td>\n",
       "    </tr>\n",
       "    <tr>\n",
       "      <th>1</th>\n",
       "      <td>18</td>\n",
       "      <td>29</td>\n",
       "      <td>113958.0</td>\n",
       "      <td>3</td>\n",
       "      <td>26</td>\n",
       "      <td>25</td>\n",
       "      <td>65</td>\n",
       "      <td>1</td>\n",
       "      <td>2019</td>\n",
       "    </tr>\n",
       "    <tr>\n",
       "      <th>2</th>\n",
       "      <td>18</td>\n",
       "      <td>29</td>\n",
       "      <td>113958.0</td>\n",
       "      <td>1</td>\n",
       "      <td>26</td>\n",
       "      <td>25</td>\n",
       "      <td>60</td>\n",
       "      <td>1</td>\n",
       "      <td>2019</td>\n",
       "    </tr>\n",
       "    <tr>\n",
       "      <th>3</th>\n",
       "      <td>18</td>\n",
       "      <td>29</td>\n",
       "      <td>113958.0</td>\n",
       "      <td>1</td>\n",
       "      <td>13</td>\n",
       "      <td>25</td>\n",
       "      <td>54</td>\n",
       "      <td>1</td>\n",
       "      <td>2019</td>\n",
       "    </tr>\n",
       "    <tr>\n",
       "      <th>4</th>\n",
       "      <td>27</td>\n",
       "      <td>26</td>\n",
       "      <td>113958.0</td>\n",
       "      <td>1</td>\n",
       "      <td>13</td>\n",
       "      <td>28</td>\n",
       "      <td>48</td>\n",
       "      <td>1</td>\n",
       "      <td>2019</td>\n",
       "    </tr>\n",
       "  </tbody>\n",
       "</table>\n",
       "</div>"
      ],
      "text/plain": [
       "   # copies  Course  Customer heading  Educational Material  Language  \\\n",
       "0        18      29          113958.0                     3        26   \n",
       "1        18      29          113958.0                     3        26   \n",
       "2        18      29          113958.0                     1        26   \n",
       "3        18      29          113958.0                     1        13   \n",
       "4        27      26          113958.0                     1        13   \n",
       "\n",
       "  Publishing group  Subject  Type Current Support  Year  \n",
       "0               25       53                     1  2019  \n",
       "1               25       65                     1  2019  \n",
       "2               25       60                     1  2019  \n",
       "3               25       54                     1  2019  \n",
       "4               28       48                     1  2019  "
      ]
     },
     "execution_count": 56,
     "metadata": {},
     "output_type": "execute_result"
    }
   ],
   "source": []
  },
  {
   "cell_type": "code",
   "execution_count": 57,
   "metadata": {},
   "outputs": [],
   "source": [
    "survey_1 = survey.merge(School_locations, on=\"Customer heading\", how='left')"
   ]
  },
  {
   "cell_type": "code",
   "execution_count": 58,
   "metadata": {},
   "outputs": [
    {
     "data": {
      "text/html": [
       "<div>\n",
       "<style scoped>\n",
       "    .dataframe tbody tr th:only-of-type {\n",
       "        vertical-align: middle;\n",
       "    }\n",
       "\n",
       "    .dataframe tbody tr th {\n",
       "        vertical-align: top;\n",
       "    }\n",
       "\n",
       "    .dataframe thead th {\n",
       "        text-align: right;\n",
       "    }\n",
       "</style>\n",
       "<table border=\"1\" class=\"dataframe\">\n",
       "  <thead>\n",
       "    <tr style=\"text-align: right;\">\n",
       "      <th></th>\n",
       "      <th># copies</th>\n",
       "      <th>Course</th>\n",
       "      <th>Customer heading</th>\n",
       "      <th>Educational Material</th>\n",
       "      <th>Language</th>\n",
       "      <th>Publishing group</th>\n",
       "      <th>Subject</th>\n",
       "      <th>Type Current Support</th>\n",
       "      <th>Year</th>\n",
       "      <th>Latitude</th>\n",
       "      <th>Longitude</th>\n",
       "      <th>Town</th>\n",
       "      <th>Province</th>\n",
       "      <th>Region</th>\n",
       "      <th>Current Seller id</th>\n",
       "      <th>Institution</th>\n",
       "      <th>Titularity</th>\n",
       "    </tr>\n",
       "  </thead>\n",
       "  <tbody>\n",
       "    <tr>\n",
       "      <th>0</th>\n",
       "      <td>18</td>\n",
       "      <td>29</td>\n",
       "      <td>113958.0</td>\n",
       "      <td>3</td>\n",
       "      <td>26</td>\n",
       "      <td>25</td>\n",
       "      <td>53</td>\n",
       "      <td>1</td>\n",
       "      <td>2019</td>\n",
       "      <td>42.853774</td>\n",
       "      <td>-2.391622</td>\n",
       "      <td>SALVATIERRA-AGURAIN</td>\n",
       "      <td>Álava</td>\n",
       "      <td>País Vasco</td>\n",
       "      <td>154.0</td>\n",
       "      <td>No</td>\n",
       "      <td>Private</td>\n",
       "    </tr>\n",
       "    <tr>\n",
       "      <th>1</th>\n",
       "      <td>18</td>\n",
       "      <td>29</td>\n",
       "      <td>113958.0</td>\n",
       "      <td>3</td>\n",
       "      <td>26</td>\n",
       "      <td>25</td>\n",
       "      <td>65</td>\n",
       "      <td>1</td>\n",
       "      <td>2019</td>\n",
       "      <td>42.853774</td>\n",
       "      <td>-2.391622</td>\n",
       "      <td>SALVATIERRA-AGURAIN</td>\n",
       "      <td>Álava</td>\n",
       "      <td>País Vasco</td>\n",
       "      <td>154.0</td>\n",
       "      <td>No</td>\n",
       "      <td>Private</td>\n",
       "    </tr>\n",
       "    <tr>\n",
       "      <th>2</th>\n",
       "      <td>18</td>\n",
       "      <td>29</td>\n",
       "      <td>113958.0</td>\n",
       "      <td>1</td>\n",
       "      <td>26</td>\n",
       "      <td>25</td>\n",
       "      <td>60</td>\n",
       "      <td>1</td>\n",
       "      <td>2019</td>\n",
       "      <td>42.853774</td>\n",
       "      <td>-2.391622</td>\n",
       "      <td>SALVATIERRA-AGURAIN</td>\n",
       "      <td>Álava</td>\n",
       "      <td>País Vasco</td>\n",
       "      <td>154.0</td>\n",
       "      <td>No</td>\n",
       "      <td>Private</td>\n",
       "    </tr>\n",
       "    <tr>\n",
       "      <th>3</th>\n",
       "      <td>18</td>\n",
       "      <td>29</td>\n",
       "      <td>113958.0</td>\n",
       "      <td>1</td>\n",
       "      <td>13</td>\n",
       "      <td>25</td>\n",
       "      <td>54</td>\n",
       "      <td>1</td>\n",
       "      <td>2019</td>\n",
       "      <td>42.853774</td>\n",
       "      <td>-2.391622</td>\n",
       "      <td>SALVATIERRA-AGURAIN</td>\n",
       "      <td>Álava</td>\n",
       "      <td>País Vasco</td>\n",
       "      <td>154.0</td>\n",
       "      <td>No</td>\n",
       "      <td>Private</td>\n",
       "    </tr>\n",
       "    <tr>\n",
       "      <th>4</th>\n",
       "      <td>27</td>\n",
       "      <td>26</td>\n",
       "      <td>113958.0</td>\n",
       "      <td>1</td>\n",
       "      <td>13</td>\n",
       "      <td>28</td>\n",
       "      <td>48</td>\n",
       "      <td>1</td>\n",
       "      <td>2019</td>\n",
       "      <td>42.853774</td>\n",
       "      <td>-2.391622</td>\n",
       "      <td>SALVATIERRA-AGURAIN</td>\n",
       "      <td>Álava</td>\n",
       "      <td>País Vasco</td>\n",
       "      <td>154.0</td>\n",
       "      <td>No</td>\n",
       "      <td>Private</td>\n",
       "    </tr>\n",
       "  </tbody>\n",
       "</table>\n",
       "</div>"
      ],
      "text/plain": [
       "   # copies  Course  Customer heading  Educational Material  Language  \\\n",
       "0        18      29          113958.0                     3        26   \n",
       "1        18      29          113958.0                     3        26   \n",
       "2        18      29          113958.0                     1        26   \n",
       "3        18      29          113958.0                     1        13   \n",
       "4        27      26          113958.0                     1        13   \n",
       "\n",
       "  Publishing group  Subject  Type Current Support  Year   Latitude  Longitude  \\\n",
       "0               25       53                     1  2019  42.853774  -2.391622   \n",
       "1               25       65                     1  2019  42.853774  -2.391622   \n",
       "2               25       60                     1  2019  42.853774  -2.391622   \n",
       "3               25       54                     1  2019  42.853774  -2.391622   \n",
       "4               28       48                     1  2019  42.853774  -2.391622   \n",
       "\n",
       "                  Town Province      Region  Current Seller id Institution  \\\n",
       "0  SALVATIERRA-AGURAIN    Álava  País Vasco              154.0          No   \n",
       "1  SALVATIERRA-AGURAIN    Álava  País Vasco              154.0          No   \n",
       "2  SALVATIERRA-AGURAIN    Álava  País Vasco              154.0          No   \n",
       "3  SALVATIERRA-AGURAIN    Álava  País Vasco              154.0          No   \n",
       "4  SALVATIERRA-AGURAIN    Álava  País Vasco              154.0          No   \n",
       "\n",
       "  Titularity  \n",
       "0    Private  \n",
       "1    Private  \n",
       "2    Private  \n",
       "3    Private  \n",
       "4    Private  "
      ]
     },
     "execution_count": 58,
     "metadata": {},
     "output_type": "execute_result"
    }
   ],
   "source": [
    "survey_1.head()"
   ]
  },
  {
   "cell_type": "code",
   "execution_count": 77,
   "metadata": {},
   "outputs": [
    {
     "data": {
      "text/html": [
       "<div>\n",
       "<style scoped>\n",
       "    .dataframe tbody tr th:only-of-type {\n",
       "        vertical-align: middle;\n",
       "    }\n",
       "\n",
       "    .dataframe tbody tr th {\n",
       "        vertical-align: top;\n",
       "    }\n",
       "\n",
       "    .dataframe thead th {\n",
       "        text-align: right;\n",
       "    }\n",
       "</style>\n",
       "<table border=\"1\" class=\"dataframe\">\n",
       "  <thead>\n",
       "    <tr style=\"text-align: right;\">\n",
       "      <th></th>\n",
       "      <th># copies</th>\n",
       "      <th>Course</th>\n",
       "      <th>Customer heading</th>\n",
       "      <th>Educational Material</th>\n",
       "      <th>Language</th>\n",
       "      <th>Publishing group</th>\n",
       "      <th>Subject</th>\n",
       "      <th>Type Current Support</th>\n",
       "      <th>Year</th>\n",
       "      <th>Latitude</th>\n",
       "      <th>Longitude</th>\n",
       "      <th>Town</th>\n",
       "      <th>Province</th>\n",
       "      <th>Region</th>\n",
       "      <th>Current Seller id</th>\n",
       "      <th>Institution</th>\n",
       "      <th>Titularity</th>\n",
       "    </tr>\n",
       "  </thead>\n",
       "  <tbody>\n",
       "    <tr>\n",
       "      <th>258169</th>\n",
       "      <td>135</td>\n",
       "      <td>29</td>\n",
       "      <td>136369.0</td>\n",
       "      <td>1</td>\n",
       "      <td>13</td>\n",
       "      <td>34</td>\n",
       "      <td>65</td>\n",
       "      <td>1</td>\n",
       "      <td>2019</td>\n",
       "      <td>40.428274</td>\n",
       "      <td>-3.681298</td>\n",
       "      <td>MADRID</td>\n",
       "      <td>Madrid</td>\n",
       "      <td>Madrid</td>\n",
       "      <td>208.0</td>\n",
       "      <td>No</td>\n",
       "      <td>Catholic</td>\n",
       "    </tr>\n",
       "    <tr>\n",
       "      <th>258170</th>\n",
       "      <td>0</td>\n",
       "      <td>29</td>\n",
       "      <td>136369.0</td>\n",
       "      <td>1</td>\n",
       "      <td>13</td>\n",
       "      <td>1</td>\n",
       "      <td>79</td>\n",
       "      <td>1</td>\n",
       "      <td>2019</td>\n",
       "      <td>40.428274</td>\n",
       "      <td>-3.681298</td>\n",
       "      <td>MADRID</td>\n",
       "      <td>Madrid</td>\n",
       "      <td>Madrid</td>\n",
       "      <td>208.0</td>\n",
       "      <td>No</td>\n",
       "      <td>Catholic</td>\n",
       "    </tr>\n",
       "    <tr>\n",
       "      <th>258171</th>\n",
       "      <td>0</td>\n",
       "      <td>29</td>\n",
       "      <td>136369.0</td>\n",
       "      <td>1</td>\n",
       "      <td>13</td>\n",
       "      <td>1</td>\n",
       "      <td>60</td>\n",
       "      <td>1</td>\n",
       "      <td>2019</td>\n",
       "      <td>40.428274</td>\n",
       "      <td>-3.681298</td>\n",
       "      <td>MADRID</td>\n",
       "      <td>Madrid</td>\n",
       "      <td>Madrid</td>\n",
       "      <td>208.0</td>\n",
       "      <td>No</td>\n",
       "      <td>Catholic</td>\n",
       "    </tr>\n",
       "    <tr>\n",
       "      <th>258172</th>\n",
       "      <td>135</td>\n",
       "      <td>29</td>\n",
       "      <td>136369.0</td>\n",
       "      <td>2</td>\n",
       "      <td>13</td>\n",
       "      <td>1</td>\n",
       "      <td>54</td>\n",
       "      <td>1</td>\n",
       "      <td>2019</td>\n",
       "      <td>40.428274</td>\n",
       "      <td>-3.681298</td>\n",
       "      <td>MADRID</td>\n",
       "      <td>Madrid</td>\n",
       "      <td>Madrid</td>\n",
       "      <td>208.0</td>\n",
       "      <td>No</td>\n",
       "      <td>Catholic</td>\n",
       "    </tr>\n",
       "    <tr>\n",
       "      <th>258173</th>\n",
       "      <td>135</td>\n",
       "      <td>29</td>\n",
       "      <td>136369.0</td>\n",
       "      <td>1</td>\n",
       "      <td>13</td>\n",
       "      <td>1</td>\n",
       "      <td>54</td>\n",
       "      <td>1</td>\n",
       "      <td>2019</td>\n",
       "      <td>40.428274</td>\n",
       "      <td>-3.681298</td>\n",
       "      <td>MADRID</td>\n",
       "      <td>Madrid</td>\n",
       "      <td>Madrid</td>\n",
       "      <td>208.0</td>\n",
       "      <td>No</td>\n",
       "      <td>Catholic</td>\n",
       "    </tr>\n",
       "  </tbody>\n",
       "</table>\n",
       "</div>"
      ],
      "text/plain": [
       "        # copies  Course  Customer heading  Educational Material  Language  \\\n",
       "258169       135      29          136369.0                     1        13   \n",
       "258170         0      29          136369.0                     1        13   \n",
       "258171         0      29          136369.0                     1        13   \n",
       "258172       135      29          136369.0                     2        13   \n",
       "258173       135      29          136369.0                     1        13   \n",
       "\n",
       "       Publishing group  Subject  Type Current Support  Year   Latitude  \\\n",
       "258169               34       65                     1  2019  40.428274   \n",
       "258170                1       79                     1  2019  40.428274   \n",
       "258171                1       60                     1  2019  40.428274   \n",
       "258172                1       54                     1  2019  40.428274   \n",
       "258173                1       54                     1  2019  40.428274   \n",
       "\n",
       "        Longitude    Town Province  Region  Current Seller id Institution  \\\n",
       "258169  -3.681298  MADRID   Madrid  Madrid              208.0          No   \n",
       "258170  -3.681298  MADRID   Madrid  Madrid              208.0          No   \n",
       "258171  -3.681298  MADRID   Madrid  Madrid              208.0          No   \n",
       "258172  -3.681298  MADRID   Madrid  Madrid              208.0          No   \n",
       "258173  -3.681298  MADRID   Madrid  Madrid              208.0          No   \n",
       "\n",
       "       Titularity  \n",
       "258169   Catholic  \n",
       "258170   Catholic  \n",
       "258171   Catholic  \n",
       "258172   Catholic  \n",
       "258173   Catholic  "
      ]
     },
     "execution_count": 77,
     "metadata": {},
     "output_type": "execute_result"
    }
   ],
   "source": [
    "survey_1.loc[survey_1['Region'] == 'Madrid'].head()\n",
    "# Coverages with schools"
   ]
  },
  {
   "cell_type": "code",
   "execution_count": 81,
   "metadata": {},
   "outputs": [],
   "source": [
    "#survey_1.pivot_table(index = 'Current Seller id',values = 'Customer heading',aggfunc = 'count')"
   ]
  },
  {
   "cell_type": "code",
   "execution_count": 101,
   "metadata": {},
   "outputs": [],
   "source": [
    "survey_1.to_csv(\"survey_1.csv\")"
   ]
  },
  {
   "cell_type": "code",
   "execution_count": null,
   "metadata": {},
   "outputs": [],
   "source": []
  },
  {
   "cell_type": "code",
   "execution_count": 92,
   "metadata": {},
   "outputs": [
    {
     "data": {
      "text/plain": [
       "# copies                  495\n",
       "Course                      6\n",
       "Customer heading        13511\n",
       "Educational Material        4\n",
       "Language                    5\n",
       "Publishing group           75\n",
       "Subject                    43\n",
       "Type Current Support        4\n",
       "Year                        5\n",
       "Latitude                12712\n",
       "Longitude               12713\n",
       "Town                     4498\n",
       "Province                   56\n",
       "Region                     20\n",
       "Current Seller id         113\n",
       "Institution                 2\n",
       "Titularity                  3\n",
       "dtype: int64"
      ]
     },
     "execution_count": 92,
     "metadata": {},
     "output_type": "execute_result"
    }
   ],
   "source": [
    "survey_1.nunique()"
   ]
  },
  {
   "cell_type": "code",
   "execution_count": 95,
   "metadata": {},
   "outputs": [
    {
     "data": {
      "text/plain": [
       "array([ 53,  65,  60,  54,  48,  18, 265,  79,  63,  73, 236,  13, 238,\n",
       "        15, 299, 239, 259, 230,  38, 267, 266, 229,  84,  25, 274,  85,\n",
       "        87, 275, 270,  29,  47, 278,  88, 272,  70,  21, 271, 292, 900,\n",
       "        72, 293, 243, 249], dtype=int64)"
      ]
     },
     "execution_count": 95,
     "metadata": {},
     "output_type": "execute_result"
    }
   ],
   "source": [
    "survey_1['Subject'].unique()"
   ]
  },
  {
   "cell_type": "code",
   "execution_count": 72,
   "metadata": {},
   "outputs": [
    {
     "data": {
      "text/plain": [
       "119.56637168141593"
      ]
     },
     "execution_count": 72,
     "metadata": {},
     "output_type": "execute_result"
    }
   ],
   "source": [
    "13511/113"
   ]
  },
  {
   "cell_type": "code",
   "execution_count": 100,
   "metadata": {},
   "outputs": [],
   "source": [
    "survey_school.to_csv(\"survey_school1.csv\")"
   ]
  },
  {
   "cell_type": "code",
   "execution_count": 102,
   "metadata": {},
   "outputs": [
    {
     "data": {
      "text/plain": [
       "array([65, 79, 60, 54, 15, 13], dtype=int64)"
      ]
     },
     "execution_count": 102,
     "metadata": {},
     "output_type": "execute_result"
    }
   ],
   "source": [
    "survey_school['Subject'].unique()"
   ]
  },
  {
   "cell_type": "code",
   "execution_count": 157,
   "metadata": {},
   "outputs": [
    {
     "data": {
      "text/html": [
       "<div>\n",
       "<style scoped>\n",
       "    .dataframe tbody tr th:only-of-type {\n",
       "        vertical-align: middle;\n",
       "    }\n",
       "\n",
       "    .dataframe tbody tr th {\n",
       "        vertical-align: top;\n",
       "    }\n",
       "\n",
       "    .dataframe thead th {\n",
       "        text-align: right;\n",
       "    }\n",
       "</style>\n",
       "<table border=\"1\" class=\"dataframe\">\n",
       "  <thead>\n",
       "    <tr style=\"text-align: right;\">\n",
       "      <th></th>\n",
       "      <th>Date</th>\n",
       "      <th>Type activity</th>\n",
       "      <th>Customer heading</th>\n",
       "      <th>Cicle / Department 1</th>\n",
       "      <th>Cicle / Department 2</th>\n",
       "      <th>Cicle / Department 3</th>\n",
       "      <th>Cicle / Department 4</th>\n",
       "      <th>Delegation</th>\n",
       "    </tr>\n",
       "  </thead>\n",
       "  <tbody>\n",
       "    <tr>\n",
       "      <th>0</th>\n",
       "      <td>2018-07-02</td>\n",
       "      <td>Commercial</td>\n",
       "      <td>122996.0</td>\n",
       "      <td>ADMINISTRATION</td>\n",
       "      <td>NaN</td>\n",
       "      <td>NaN</td>\n",
       "      <td>NaN</td>\n",
       "      <td>PAÍS VASCO</td>\n",
       "    </tr>\n",
       "    <tr>\n",
       "      <th>1</th>\n",
       "      <td>2018-07-02</td>\n",
       "      <td>Commercial</td>\n",
       "      <td>171905.0</td>\n",
       "      <td>ADMINISTRATION</td>\n",
       "      <td>NaN</td>\n",
       "      <td>NaN</td>\n",
       "      <td>NaN</td>\n",
       "      <td>ANDALUCÍA-EXTREMADURA</td>\n",
       "    </tr>\n",
       "    <tr>\n",
       "      <th>2</th>\n",
       "      <td>2018-07-03</td>\n",
       "      <td>Implementation</td>\n",
       "      <td>196818.0</td>\n",
       "      <td>ADMINISTRATION</td>\n",
       "      <td>NaN</td>\n",
       "      <td>NaN</td>\n",
       "      <td>NaN</td>\n",
       "      <td>CANARIAS</td>\n",
       "    </tr>\n",
       "    <tr>\n",
       "      <th>3</th>\n",
       "      <td>2018-07-03</td>\n",
       "      <td>Commercial</td>\n",
       "      <td>122652.0</td>\n",
       "      <td>ADMINISTRATION</td>\n",
       "      <td>NaN</td>\n",
       "      <td>NaN</td>\n",
       "      <td>NaN</td>\n",
       "      <td>ANDALUCÍA-EXTREMADURA</td>\n",
       "    </tr>\n",
       "    <tr>\n",
       "      <th>4</th>\n",
       "      <td>2018-07-03</td>\n",
       "      <td>Commercial</td>\n",
       "      <td>212353.0</td>\n",
       "      <td>ADMINISTRATION</td>\n",
       "      <td>NaN</td>\n",
       "      <td>NaN</td>\n",
       "      <td>NaN</td>\n",
       "      <td>ANDALUCÍA-EXTREMADURA</td>\n",
       "    </tr>\n",
       "  </tbody>\n",
       "</table>\n",
       "</div>"
      ],
      "text/plain": [
       "        Date   Type activity  Customer heading Cicle / Department 1  \\\n",
       "0 2018-07-02      Commercial          122996.0       ADMINISTRATION   \n",
       "1 2018-07-02      Commercial          171905.0       ADMINISTRATION   \n",
       "2 2018-07-03  Implementation          196818.0       ADMINISTRATION   \n",
       "3 2018-07-03      Commercial          122652.0       ADMINISTRATION   \n",
       "4 2018-07-03      Commercial          212353.0       ADMINISTRATION   \n",
       "\n",
       "  Cicle / Department 2 Cicle / Department 3 Cicle / Department 4  \\\n",
       "0                  NaN                  NaN                  NaN   \n",
       "1                  NaN                  NaN                  NaN   \n",
       "2                  NaN                  NaN                  NaN   \n",
       "3                  NaN                  NaN                  NaN   \n",
       "4                  NaN                  NaN                  NaN   \n",
       "\n",
       "              Delegation  \n",
       "0             PAÍS VASCO  \n",
       "1  ANDALUCÍA-EXTREMADURA  \n",
       "2               CANARIAS  \n",
       "3  ANDALUCÍA-EXTREMADURA  \n",
       "4  ANDALUCÍA-EXTREMADURA  "
      ]
     },
     "execution_count": 157,
     "metadata": {},
     "output_type": "execute_result"
    }
   ],
   "source": [
    "Activities.head()"
   ]
  },
  {
   "cell_type": "code",
   "execution_count": null,
   "metadata": {},
   "outputs": [],
   "source": []
  }
 ],
 "metadata": {
  "kernelspec": {
   "display_name": "Python 3",
   "language": "python",
   "name": "python3"
  },
  "language_info": {
   "codemirror_mode": {
    "name": "ipython",
    "version": 3
   },
   "file_extension": ".py",
   "mimetype": "text/x-python",
   "name": "python",
   "nbconvert_exporter": "python",
   "pygments_lexer": "ipython3",
   "version": "3.7.3"
  }
 },
 "nbformat": 4,
 "nbformat_minor": 4
}
